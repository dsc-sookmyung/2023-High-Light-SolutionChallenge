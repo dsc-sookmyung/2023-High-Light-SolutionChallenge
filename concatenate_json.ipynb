{
 "cells": [
  {
   "cell_type": "code",
   "execution_count": 2,
   "metadata": {},
   "outputs": [
    {
     "name": "stdout",
     "output_type": "stream",
     "text": [
      "{\n",
      "\t\"K5\": {\n",
      "\t\t\"price\": \"5000\",\n",
      "\t\t\"year\": \"2015\"\n",
      "\t},\n",
      "\t\"Avante\": {\n",
      "\t\t\"price\": \"3000\",\n",
      "\t\t\"year\": \"2014\"\n",
      "\t}\n",
      "}\n"
     ]
    }
   ],
   "source": [
    "import json\n",
    "\n",
    "car_group = dict()\n",
    "\n",
    "\n",
    "k5 = dict()\n",
    "\n",
    "k5[\"price\"] = \"5000\"\n",
    "\n",
    "k5[\"year\"] = \"2015\"\n",
    "\n",
    "car_group[\"K5\"] = k5\n",
    "\n",
    "\n",
    "avante = dict()\n",
    "\n",
    "avante[\"price\"] = \"3000\"\n",
    "\n",
    "avante[\"year\"] = \"2014\"\n",
    "\n",
    "car_group[\"Avante\"] = avante\n",
    "\n",
    "\n",
    "#json 파일로 저장\n",
    "\n",
    "with open('./test.json', 'w', encoding='utf-8') as make_file:\n",
    "\n",
    "    json.dump(car_group, make_file, indent=\"\\t\")\n",
    "\n",
    "\n",
    "# 저장한 파일 출력하기\n",
    "\n",
    "with open('./test.json', 'r') as f:\n",
    "\n",
    "    json_data = json.load(f)\n",
    "\n",
    "print(json.dumps(json_data, indent=\"\\t\"))\n"
   ]
  },
  {
   "cell_type": "code",
   "execution_count": 3,
   "metadata": {},
   "outputs": [],
   "source": [
    "import fitz\n",
    "from operator import itemgetter\n"
   ]
  },
  {
   "cell_type": "code",
   "execution_count": null,
   "metadata": {},
   "outputs": [],
   "source": [
    "import json\n",
    "\n",
    "doc = dict()\n",
    "\n",
    "page = dict()\n",
    "bbox = dict()\n",
    "text = dict()\n",
    "\n"
   ]
  }
 ],
 "metadata": {
  "kernelspec": {
   "display_name": "Python 3",
   "language": "python",
   "name": "python3"
  },
  "language_info": {
   "codemirror_mode": {
    "name": "ipython",
    "version": 3
   },
   "file_extension": ".py",
   "mimetype": "text/x-python",
   "name": "python",
   "nbconvert_exporter": "python",
   "pygments_lexer": "ipython3",
   "version": "3.10.5"
  },
  "orig_nbformat": 4,
  "vscode": {
   "interpreter": {
    "hash": "35e0334895c7257ffa902a82750dbe09ec85e290cbc1321a3819ebf1c9410545"
   }
  }
 },
 "nbformat": 4,
 "nbformat_minor": 2
}
