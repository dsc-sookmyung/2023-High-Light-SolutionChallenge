{
 "cells": [
  {
   "cell_type": "code",
   "execution_count": 2,
   "metadata": {},
   "outputs": [
    {
     "name": "stdout",
     "output_type": "stream",
     "text": [
      "{\n",
      "\t\"K5\": {\n",
      "\t\t\"price\": \"5000\",\n",
      "\t\t\"year\": \"2015\"\n",
      "\t},\n",
      "\t\"Avante\": {\n",
      "\t\t\"price\": \"3000\",\n",
      "\t\t\"year\": \"2014\"\n",
      "\t}\n",
      "}\n"
     ]
    }
   ],
   "source": [
    "import json\n",
    "\n",
    "car_group = dict()\n",
    "\n",
    "\n",
    "k5 = dict()\n",
    "\n",
    "k5[\"price\"] = \"5000\"\n",
    "\n",
    "k5[\"year\"] = \"2015\"\n",
    "\n",
    "car_group[\"K5\"] = k5\n",
    "\n",
    "\n",
    "avante = dict()\n",
    "\n",
    "avante[\"price\"] = \"3000\"\n",
    "\n",
    "avante[\"year\"] = \"2014\"\n",
    "\n",
    "car_group[\"Avante\"] = avante\n",
    "\n",
    "\n",
    "#json 파일로 저장\n",
    "\n",
    "with open('./test.json', 'w', encoding='utf-8') as make_file:\n",
    "\n",
    "    json.dump(car_group, make_file, indent=\"\\t\")\n",
    "\n",
    "\n",
    "# 저장한 파일 출력하기\n",
    "\n",
    "with open('./test.json', 'r') as f:\n",
    "\n",
    "    json_data = json.load(f)\n",
    "\n",
    "print(json.dumps(json_data, indent=\"\\t\"))\n"
   ]
  },
  {
   "cell_type": "code",
   "execution_count": 26,
   "metadata": {},
   "outputs": [
    {
     "name": "stdout",
     "output_type": "stream",
     "text": [
      "fin\n"
     ]
    }
   ],
   "source": [
    "import fitz\n",
    "import PIL.Image\n",
    "from pdfminer.high_level import extract_pages\n",
    "from pdfminer.layout import LTTextContainer, LTChar,LTLine,LAParams\n",
    "import os\n",
    "import json\n",
    "import PIL.Image\n",
    "import io\n",
    "import re\n",
    "\n",
    "\n",
    "path = r'./os.pdf'\n",
    "extract_data = {}\n",
    "pdf = fitz.open(path)\n",
    "counter = 1\n",
    "# full-text -> image 순으로 페이지당으로 나옴\n",
    "for i in range(len(pdf)):\n",
    "    full_text_data = {}\n",
    "    page = pdf[i]  # load page\n",
    "    images = page.get_images()\n",
    "    text = page.get_text('sentences')\n",
    "    # for image in images:\n",
    "    #     base_img = pdf.extract_image(image[0])\n",
    "    #     image_data = base_img['image']\n",
    "    #     img = PIL.Image.open(io.BytesIO(image_data))\n",
    "    #     extension = base_img['ext']\n",
    "    #     img.save(\n",
    "    #         open(f\"temp_dataset/split_pages/image{counter}.{extension}\", \"wb\"))\n",
    "    full_text_data[\"full-text\"] = text\n",
    "    extract_data[str(counter)] = full_text_data\n",
    "    counter += 1\n",
    "\n",
    "# line-text 페이지당으로 나옴       \n",
    "for page_layout in extract_pages(path):\n",
    "    data = []\n",
    "    for element in page_layout:\n",
    "        if isinstance(element, LTTextContainer):\n",
    "            for text_line in element:\n",
    "                for character in text_line:\n",
    "                    if isinstance(character, LTChar):\n",
    "                        Font_size = round(character.size)\n",
    "            data.append({'size': Font_size, 'line-text': (element.get_text())})\n",
    "    data.insert(0, extract_data[str(page_layout.pageid)])\n",
    "    extract_data[str(page_layout.pageid)] = (data)\n",
    "\n",
    "# print(extract_data)\n",
    "with open('./sample.json', 'w', encoding='utf-8') as make_file:\n",
    "\n",
    "    json.dump(extract_data, make_file, indent=\"\\t\", ensure_ascii=False)\n",
    "print(\"fin\")\n"
   ]
  },
  {
   "cell_type": "code",
   "execution_count": 2,
   "metadata": {},
   "outputs": [],
   "source": [
    "import pdfminer\n",
    "from pdfminer.image import ImageWriter\n",
    "from pdfminer.high_level import extract_pages\n",
    "\n",
    "pages = list(extract_pages('os.pdf'))\n",
    "page = pages[0]\n",
    "\n",
    "\n",
    "def get_image(layout_object):\n",
    "    if isinstance(layout_object, pdfminer.layout.LTImage):\n",
    "        return layout_object\n",
    "    if isinstance(layout_object, pdfminer.layout.LTContainer):\n",
    "        for child in layout_object:\n",
    "            return get_image(child)\n",
    "    else:\n",
    "        return None\n",
    "\n",
    "\n",
    "def save_images_from_page(page: pdfminer.layout.LTPage):\n",
    "    images = list(filter(bool, map(get_image, page)))\n",
    "    iw = ImageWriter('output_dir')\n",
    "    for image in images:\n",
    "        iw.export_image(image)\n",
    "\n",
    "\n",
    "save_images_from_page(page)\n",
    "\n"
   ]
  }
 ],
 "metadata": {
  "kernelspec": {
   "display_name": "Python 3",
   "language": "python",
   "name": "python3"
  },
  "language_info": {
   "codemirror_mode": {
    "name": "ipython",
    "version": 3
   },
   "file_extension": ".py",
   "mimetype": "text/x-python",
   "name": "python",
   "nbconvert_exporter": "python",
   "pygments_lexer": "ipython3",
   "version": "3.10.5"
  },
  "orig_nbformat": 4,
  "vscode": {
   "interpreter": {
    "hash": "35e0334895c7257ffa902a82750dbe09ec85e290cbc1321a3819ebf1c9410545"
   }
  }
 },
 "nbformat": 4,
 "nbformat_minor": 2
}
