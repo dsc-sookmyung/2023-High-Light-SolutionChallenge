{
 "cells": [
  {
   "cell_type": "code",
   "execution_count": 1,
   "metadata": {},
   "outputs": [
    {
     "name": "stderr",
     "output_type": "stream",
     "text": [
      "Copying gs://middle-temporary-2/dbms_6.pdf/dbms_6.json...\n",
      "/ [0/1 files][    0.0 B/ 61.4 KiB]   0% Done                                    \n",
      "/ [1/1 files][ 61.4 KiB/ 61.4 KiB] 100% Done                                    \n",
      "\n",
      "Operation completed over 1 objects/61.4 KiB.                                     \n"
     ]
    }
   ],
   "source": [
    "!gsutil -m cp -r \\\n",
    "  \"gs://middle-temporary-2/dbms_6.pdf\" \\\n",
    "  ."
   ]
  },
  {
   "cell_type": "code",
   "execution_count": null,
   "metadata": {},
   "outputs": [],
   "source": []
  }
 ],
 "metadata": {
  "kernelspec": {
   "display_name": "Python 3",
   "language": "python",
   "name": "python3"
  },
  "language_info": {
   "codemirror_mode": {
    "name": "ipython",
    "version": 3
   },
   "file_extension": ".py",
   "mimetype": "text/x-python",
   "name": "python",
   "nbconvert_exporter": "python",
   "pygments_lexer": "ipython3",
   "version": "3.10.3"
  },
  "orig_nbformat": 4
 },
 "nbformat": 4,
 "nbformat_minor": 2
}
