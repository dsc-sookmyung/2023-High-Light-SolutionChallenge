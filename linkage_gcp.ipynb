{
 "cells": [
  {
   "cell_type": "code",
   "execution_count": 3,
   "metadata": {},
   "outputs": [
    {
     "name": "stdout",
     "output_type": "stream",
     "text": [
      "Collecting google-cloud-storage\n",
      "  Downloading google_cloud_storage-2.7.0-py2.py3-none-any.whl (110 kB)\n",
      "     -------------------------------------- 110.2/110.2 kB 3.2 MB/s eta 0:00:00\n",
      "Collecting google-cloud-core<3.0dev,>=2.3.0\n",
      "  Downloading google_cloud_core-2.3.2-py2.py3-none-any.whl (29 kB)\n",
      "Requirement already satisfied: requests<3.0.0dev,>=2.18.0 in c:\\users\\sksoh\\appdata\\local\\programs\\python\\python310\\lib\\site-packages (from google-cloud-storage) (2.28.1)\n",
      "Collecting google-resumable-media>=2.3.2\n",
      "  Downloading google_resumable_media-2.4.1-py2.py3-none-any.whl (77 kB)\n",
      "     ---------------------------------------- 77.7/77.7 kB ? eta 0:00:00\n",
      "Requirement already satisfied: google-api-core!=2.0.*,!=2.1.*,!=2.2.*,!=2.3.0,<3.0.0dev,>=1.31.5 in c:\\users\\sksoh\\appdata\\local\\programs\\python\\python310\\lib\\site-packages (from google-cloud-storage) (2.11.0)\n",
      "Requirement already satisfied: google-auth<3.0dev,>=1.25.0 in c:\\users\\sksoh\\appdata\\local\\programs\\python\\python310\\lib\\site-packages (from google-cloud-storage) (2.16.0)\n",
      "Requirement already satisfied: protobuf!=3.20.0,!=3.20.1,!=4.21.0,!=4.21.1,!=4.21.2,!=4.21.3,!=4.21.4,!=4.21.5,<5.0.0dev,>=3.19.5 in c:\\users\\sksoh\\appdata\\local\\programs\\python\\python310\\lib\\site-packages (from google-api-core!=2.0.*,!=2.1.*,!=2.2.*,!=2.3.0,<3.0.0dev,>=1.31.5->google-cloud-storage) (4.22.0)\n",
      "Requirement already satisfied: googleapis-common-protos<2.0dev,>=1.56.2 in c:\\users\\sksoh\\appdata\\local\\programs\\python\\python310\\lib\\site-packages (from google-api-core!=2.0.*,!=2.1.*,!=2.2.*,!=2.3.0,<3.0.0dev,>=1.31.5->google-cloud-storage) (1.58.0)\n",
      "Requirement already satisfied: pyasn1-modules>=0.2.1 in c:\\users\\sksoh\\appdata\\local\\programs\\python\\python310\\lib\\site-packages (from google-auth<3.0dev,>=1.25.0->google-cloud-storage) (0.2.8)\n",
      "Requirement already satisfied: rsa<5,>=3.1.4 in c:\\users\\sksoh\\appdata\\local\\programs\\python\\python310\\lib\\site-packages (from google-auth<3.0dev,>=1.25.0->google-cloud-storage) (4.7.2)\n",
      "Requirement already satisfied: cachetools<6.0,>=2.0.0 in c:\\users\\sksoh\\appdata\\local\\programs\\python\\python310\\lib\\site-packages (from google-auth<3.0dev,>=1.25.0->google-cloud-storage) (5.2.0)\n",
      "Requirement already satisfied: six>=1.9.0 in c:\\users\\sksoh\\appdata\\local\\programs\\python\\python310\\lib\\site-packages (from google-auth<3.0dev,>=1.25.0->google-cloud-storage) (1.16.0)\n",
      "Collecting google-crc32c<2.0dev,>=1.0\n",
      "  Downloading google_crc32c-1.5.0-cp310-cp310-win_amd64.whl (27 kB)\n",
      "Requirement already satisfied: idna<4,>=2.5 in c:\\users\\sksoh\\appdata\\local\\programs\\python\\python310\\lib\\site-packages (from requests<3.0.0dev,>=2.18.0->google-cloud-storage) (3.3)\n",
      "Requirement already satisfied: urllib3<1.27,>=1.21.1 in c:\\users\\sksoh\\appdata\\local\\programs\\python\\python310\\lib\\site-packages (from requests<3.0.0dev,>=2.18.0->google-cloud-storage) (1.26.10)\n",
      "Requirement already satisfied: charset-normalizer<3,>=2 in c:\\users\\sksoh\\appdata\\local\\programs\\python\\python310\\lib\\site-packages (from requests<3.0.0dev,>=2.18.0->google-cloud-storage) (2.1.0)\n",
      "Requirement already satisfied: certifi>=2017.4.17 in c:\\users\\sksoh\\appdata\\local\\programs\\python\\python310\\lib\\site-packages (from requests<3.0.0dev,>=2.18.0->google-cloud-storage) (2022.6.15)\n",
      "Requirement already satisfied: pyasn1<0.5.0,>=0.4.6 in c:\\users\\sksoh\\appdata\\local\\programs\\python\\python310\\lib\\site-packages (from pyasn1-modules>=0.2.1->google-auth<3.0dev,>=1.25.0->google-cloud-storage) (0.4.8)\n",
      "Installing collected packages: google-crc32c, google-resumable-media, google-cloud-core, google-cloud-storage\n",
      "Successfully installed google-cloud-core-2.3.2 google-cloud-storage-2.7.0 google-crc32c-1.5.0 google-resumable-media-2.4.1\n",
      "Note: you may need to restart the kernel to use updated packages.\n"
     ]
    },
    {
     "name": "stderr",
     "output_type": "stream",
     "text": [
      "WARNING: Ignoring invalid distribution -rotobuf (c:\\users\\sksoh\\appdata\\local\\programs\\python\\python310\\lib\\site-packages)\n",
      "WARNING: Ignoring invalid distribution -pencv-python-headless (c:\\users\\sksoh\\appdata\\local\\programs\\python\\python310\\lib\\site-packages)\n",
      "WARNING: Ignoring invalid distribution -rotobuf (c:\\users\\sksoh\\appdata\\local\\programs\\python\\python310\\lib\\site-packages)\n",
      "WARNING: Ignoring invalid distribution -pencv-python-headless (c:\\users\\sksoh\\appdata\\local\\programs\\python\\python310\\lib\\site-packages)\n",
      "WARNING: Ignoring invalid distribution -rotobuf (c:\\users\\sksoh\\appdata\\local\\programs\\python\\python310\\lib\\site-packages)\n",
      "WARNING: Ignoring invalid distribution -pencv-python-headless (c:\\users\\sksoh\\appdata\\local\\programs\\python\\python310\\lib\\site-packages)\n",
      "WARNING: Ignoring invalid distribution -rotobuf (c:\\users\\sksoh\\appdata\\local\\programs\\python\\python310\\lib\\site-packages)\n",
      "WARNING: Ignoring invalid distribution -pencv-python-headless (c:\\users\\sksoh\\appdata\\local\\programs\\python\\python310\\lib\\site-packages)\n",
      "WARNING: Ignoring invalid distribution -rotobuf (c:\\users\\sksoh\\appdata\\local\\programs\\python\\python310\\lib\\site-packages)\n",
      "WARNING: Ignoring invalid distribution -pencv-python-headless (c:\\users\\sksoh\\appdata\\local\\programs\\python\\python310\\lib\\site-packages)\n",
      "WARNING: Ignoring invalid distribution -rotobuf (c:\\users\\sksoh\\appdata\\local\\programs\\python\\python310\\lib\\site-packages)\n",
      "WARNING: Ignoring invalid distribution -pencv-python-headless (c:\\users\\sksoh\\appdata\\local\\programs\\python\\python310\\lib\\site-packages)\n",
      "WARNING: Ignoring invalid distribution -rotobuf (c:\\users\\sksoh\\appdata\\local\\programs\\python\\python310\\lib\\site-packages)\n",
      "WARNING: Ignoring invalid distribution -pencv-python-headless (c:\\users\\sksoh\\appdata\\local\\programs\\python\\python310\\lib\\site-packages)\n",
      "WARNING: Ignoring invalid distribution -rotobuf (c:\\users\\sksoh\\appdata\\local\\programs\\python\\python310\\lib\\site-packages)\n",
      "WARNING: Ignoring invalid distribution -pencv-python-headless (c:\\users\\sksoh\\appdata\\local\\programs\\python\\python310\\lib\\site-packages)\n",
      "WARNING: Ignoring invalid distribution -rotobuf (c:\\users\\sksoh\\appdata\\local\\programs\\python\\python310\\lib\\site-packages)\n",
      "WARNING: Ignoring invalid distribution -pencv-python-headless (c:\\users\\sksoh\\appdata\\local\\programs\\python\\python310\\lib\\site-packages)\n",
      "WARNING: Ignoring invalid distribution -rotobuf (c:\\users\\sksoh\\appdata\\local\\programs\\python\\python310\\lib\\site-packages)\n",
      "WARNING: Ignoring invalid distribution -pencv-python-headless (c:\\users\\sksoh\\appdata\\local\\programs\\python\\python310\\lib\\site-packages)\n",
      "\n",
      "[notice] A new release of pip available: 22.3.1 -> 23.0.1\n",
      "[notice] To update, run: python.exe -m pip install --upgrade pip\n"
     ]
    }
   ],
   "source": [
    "pip install google-cloud-storage\n"
   ]
  },
  {
   "cell_type": "code",
   "execution_count": 1,
   "metadata": {},
   "outputs": [],
   "source": [
    "import os\n",
    "\n",
    "os.environ[\"GOOGLE_APPLICATION_CREDENTIALS\"]=\"./tts_api_key.json\""
   ]
  },
  {
   "cell_type": "code",
   "execution_count": 12,
   "metadata": {},
   "outputs": [
    {
     "name": "stdout",
     "output_type": "stream",
     "text": [
      "Upload complete\n"
     ]
    }
   ],
   "source": [
    "try:\n",
    "    import io\n",
    "    from io import BytesIO\n",
    "    import pandas as pd\n",
    "    from google.cloud import storage\n",
    "    \n",
    "except Exception as e:\n",
    "    print(\"Some Modules are Missing {}\".format(e))\n",
    " \n",
    "storage_client = storage.Client.from_service_account_json(\"./tts_api_key.json\")\n",
    "\n",
    "# GCP에 파일 올리기\n",
    "bucket = storage_client.get_bucket('cloud_storage_leturn')  \n",
    "\n",
    "fileName = \"delete.json\"  \n",
    "blob = bucket.blob(fileName)\n",
    "\n",
    "with open('text.json', 'rb') as f:\n",
    "    blob.upload_from_file(f)\n",
    "    \n",
    "print(\"Upload complete\")\n",
    "\n",
    "\n"
   ]
  },
  {
   "cell_type": "code",
   "execution_count": 17,
   "metadata": {},
   "outputs": [
    {
     "ename": "Forbidden",
     "evalue": "403 GET https://storage.googleapis.com/download/storage/v1/b/cloud_storage_leturn/o/test.json?alt=media: tts-api@heroic-habitat-376713.iam.gserviceaccount.com does not have storage.objects.get access to the Google Cloud Storage object. Permission &#39;storage.objects.get&#39; denied on resource (or it may not exist).: ('Request failed with status code', 403, 'Expected one of', <HTTPStatus.OK: 200>, <HTTPStatus.PARTIAL_CONTENT: 206>)",
     "output_type": "error",
     "traceback": [
      "\u001b[1;31m---------------------------------------------------------------------------\u001b[0m",
      "\u001b[1;31mInvalidResponse\u001b[0m                           Traceback (most recent call last)",
      "File \u001b[1;32mc:\\Users\\sksoh\\AppData\\Local\\Programs\\Python\\Python310\\lib\\site-packages\\google\\cloud\\storage\\client.py:1086\u001b[0m, in \u001b[0;36mClient.download_blob_to_file\u001b[1;34m(self, blob_or_uri, file_obj, start, end, raw_download, if_etag_match, if_etag_not_match, if_generation_match, if_generation_not_match, if_metageneration_match, if_metageneration_not_match, timeout, checksum, retry)\u001b[0m\n\u001b[0;32m   1085\u001b[0m \u001b[39mtry\u001b[39;00m:\n\u001b[1;32m-> 1086\u001b[0m     blob_or_uri\u001b[39m.\u001b[39;49m_do_download(\n\u001b[0;32m   1087\u001b[0m         transport,\n\u001b[0;32m   1088\u001b[0m         file_obj,\n\u001b[0;32m   1089\u001b[0m         download_url,\n\u001b[0;32m   1090\u001b[0m         headers,\n\u001b[0;32m   1091\u001b[0m         start,\n\u001b[0;32m   1092\u001b[0m         end,\n\u001b[0;32m   1093\u001b[0m         raw_download,\n\u001b[0;32m   1094\u001b[0m         timeout\u001b[39m=\u001b[39;49mtimeout,\n\u001b[0;32m   1095\u001b[0m         checksum\u001b[39m=\u001b[39;49mchecksum,\n\u001b[0;32m   1096\u001b[0m         retry\u001b[39m=\u001b[39;49mretry,\n\u001b[0;32m   1097\u001b[0m     )\n\u001b[0;32m   1098\u001b[0m \u001b[39mexcept\u001b[39;00m resumable_media\u001b[39m.\u001b[39mInvalidResponse \u001b[39mas\u001b[39;00m exc:\n",
      "File \u001b[1;32mc:\\Users\\sksoh\\AppData\\Local\\Programs\\Python\\Python310\\lib\\site-packages\\google\\cloud\\storage\\blob.py:984\u001b[0m, in \u001b[0;36mBlob._do_download\u001b[1;34m(self, transport, file_obj, download_url, headers, start, end, raw_download, timeout, checksum, retry)\u001b[0m\n\u001b[0;32m    983\u001b[0m download\u001b[39m.\u001b[39m_retry_strategy \u001b[39m=\u001b[39m retry_strategy\n\u001b[1;32m--> 984\u001b[0m response \u001b[39m=\u001b[39m download\u001b[39m.\u001b[39;49mconsume(transport, timeout\u001b[39m=\u001b[39;49mtimeout)\n\u001b[0;32m    985\u001b[0m \u001b[39mself\u001b[39m\u001b[39m.\u001b[39m_extract_headers_from_download(response)\n",
      "File \u001b[1;32mc:\\Users\\sksoh\\AppData\\Local\\Programs\\Python\\Python310\\lib\\site-packages\\google\\resumable_media\\requests\\download.py:237\u001b[0m, in \u001b[0;36mDownload.consume\u001b[1;34m(self, transport, timeout)\u001b[0m\n\u001b[0;32m    235\u001b[0m     \u001b[39mreturn\u001b[39;00m result\n\u001b[1;32m--> 237\u001b[0m \u001b[39mreturn\u001b[39;00m _request_helpers\u001b[39m.\u001b[39;49mwait_and_retry(\n\u001b[0;32m    238\u001b[0m     retriable_request, \u001b[39mself\u001b[39;49m\u001b[39m.\u001b[39;49m_get_status_code, \u001b[39mself\u001b[39;49m\u001b[39m.\u001b[39;49m_retry_strategy\n\u001b[0;32m    239\u001b[0m )\n",
      "File \u001b[1;32mc:\\Users\\sksoh\\AppData\\Local\\Programs\\Python\\Python310\\lib\\site-packages\\google\\resumable_media\\requests\\_request_helpers.py:148\u001b[0m, in \u001b[0;36mwait_and_retry\u001b[1;34m(func, get_status_code, retry_strategy)\u001b[0m\n\u001b[0;32m    147\u001b[0m \u001b[39mtry\u001b[39;00m:\n\u001b[1;32m--> 148\u001b[0m     response \u001b[39m=\u001b[39m func()\n\u001b[0;32m    149\u001b[0m \u001b[39mexcept\u001b[39;00m _CONNECTION_ERROR_CLASSES \u001b[39mas\u001b[39;00m e:\n",
      "File \u001b[1;32mc:\\Users\\sksoh\\AppData\\Local\\Programs\\Python\\Python310\\lib\\site-packages\\google\\resumable_media\\requests\\download.py:219\u001b[0m, in \u001b[0;36mDownload.consume.<locals>.retriable_request\u001b[1;34m()\u001b[0m\n\u001b[0;32m    215\u001b[0m     \u001b[39mself\u001b[39m\u001b[39m.\u001b[39m_object_generation \u001b[39m=\u001b[39m _helpers\u001b[39m.\u001b[39m_parse_generation_header(\n\u001b[0;32m    216\u001b[0m         result, \u001b[39mself\u001b[39m\u001b[39m.\u001b[39m_get_headers\n\u001b[0;32m    217\u001b[0m     )\n\u001b[1;32m--> 219\u001b[0m \u001b[39mself\u001b[39;49m\u001b[39m.\u001b[39;49m_process_response(result)\n\u001b[0;32m    221\u001b[0m \u001b[39m# With decompressive transcoding, GCS serves back the whole file regardless of the range request,\u001b[39;00m\n\u001b[0;32m    222\u001b[0m \u001b[39m# thus we reset the stream position to the start of the stream.\u001b[39;00m\n\u001b[0;32m    223\u001b[0m \u001b[39m# See: https://cloud.google.com/storage/docs/transcoding#range\u001b[39;00m\n",
      "File \u001b[1;32mc:\\Users\\sksoh\\AppData\\Local\\Programs\\Python\\Python310\\lib\\site-packages\\google\\resumable_media\\_download.py:188\u001b[0m, in \u001b[0;36mDownload._process_response\u001b[1;34m(self, response)\u001b[0m\n\u001b[0;32m    187\u001b[0m \u001b[39mself\u001b[39m\u001b[39m.\u001b[39m_finished \u001b[39m=\u001b[39m \u001b[39mTrue\u001b[39;00m\n\u001b[1;32m--> 188\u001b[0m _helpers\u001b[39m.\u001b[39;49mrequire_status_code(\n\u001b[0;32m    189\u001b[0m     response, _ACCEPTABLE_STATUS_CODES, \u001b[39mself\u001b[39;49m\u001b[39m.\u001b[39;49m_get_status_code\n\u001b[0;32m    190\u001b[0m )\n",
      "File \u001b[1;32mc:\\Users\\sksoh\\AppData\\Local\\Programs\\Python\\Python310\\lib\\site-packages\\google\\resumable_media\\_helpers.py:108\u001b[0m, in \u001b[0;36mrequire_status_code\u001b[1;34m(response, status_codes, get_status_code, callback)\u001b[0m\n\u001b[0;32m    107\u001b[0m         callback()\n\u001b[1;32m--> 108\u001b[0m     \u001b[39mraise\u001b[39;00m common\u001b[39m.\u001b[39mInvalidResponse(\n\u001b[0;32m    109\u001b[0m         response,\n\u001b[0;32m    110\u001b[0m         \u001b[39m\"\u001b[39m\u001b[39mRequest failed with status code\u001b[39m\u001b[39m\"\u001b[39m,\n\u001b[0;32m    111\u001b[0m         status_code,\n\u001b[0;32m    112\u001b[0m         \u001b[39m\"\u001b[39m\u001b[39mExpected one of\u001b[39m\u001b[39m\"\u001b[39m,\n\u001b[0;32m    113\u001b[0m         \u001b[39m*\u001b[39mstatus_codes\n\u001b[0;32m    114\u001b[0m     )\n\u001b[0;32m    115\u001b[0m \u001b[39mreturn\u001b[39;00m status_code\n",
      "\u001b[1;31mInvalidResponse\u001b[0m: ('Request failed with status code', 403, 'Expected one of', <HTTPStatus.OK: 200>, <HTTPStatus.PARTIAL_CONTENT: 206>)",
      "\nDuring handling of the above exception, another exception occurred:\n",
      "\u001b[1;31mForbidden\u001b[0m                                 Traceback (most recent call last)",
      "\u001b[1;32mc:\\STUDY\\2023-High-Light-SolutionChallenge\\linkage_gcp.ipynb Cell 4\u001b[0m in \u001b[0;36m<cell line: 22>\u001b[1;34m()\u001b[0m\n\u001b[0;32m     <a href='vscode-notebook-cell:/c%3A/STUDY/2023-High-Light-SolutionChallenge/linkage_gcp.ipynb#W4sZmlsZQ%3D%3D?line=18'>19</a>\u001b[0m bucket \u001b[39m=\u001b[39m storage_client\u001b[39m.\u001b[39mbucket(bucket_name)\n\u001b[0;32m     <a href='vscode-notebook-cell:/c%3A/STUDY/2023-High-Light-SolutionChallenge/linkage_gcp.ipynb#W4sZmlsZQ%3D%3D?line=19'>20</a>\u001b[0m blob \u001b[39m=\u001b[39m bucket\u001b[39m.\u001b[39mblob(source_blob_name)\n\u001b[1;32m---> <a href='vscode-notebook-cell:/c%3A/STUDY/2023-High-Light-SolutionChallenge/linkage_gcp.ipynb#W4sZmlsZQ%3D%3D?line=21'>22</a>\u001b[0m blob\u001b[39m.\u001b[39;49mdownload_to_filename(destination_file_name)\n",
      "File \u001b[1;32mc:\\Users\\sksoh\\AppData\\Local\\Programs\\Python\\Python310\\lib\\site-packages\\google\\cloud\\storage\\blob.py:1256\u001b[0m, in \u001b[0;36mBlob.download_to_filename\u001b[1;34m(self, filename, client, start, end, raw_download, if_etag_match, if_etag_not_match, if_generation_match, if_generation_not_match, if_metageneration_match, if_metageneration_not_match, timeout, checksum, retry)\u001b[0m\n\u001b[0;32m   1254\u001b[0m \u001b[39mtry\u001b[39;00m:\n\u001b[0;32m   1255\u001b[0m     \u001b[39mwith\u001b[39;00m \u001b[39mopen\u001b[39m(filename, \u001b[39m\"\u001b[39m\u001b[39mwb\u001b[39m\u001b[39m\"\u001b[39m) \u001b[39mas\u001b[39;00m file_obj:\n\u001b[1;32m-> 1256\u001b[0m         client\u001b[39m.\u001b[39;49mdownload_blob_to_file(\n\u001b[0;32m   1257\u001b[0m             \u001b[39mself\u001b[39;49m,\n\u001b[0;32m   1258\u001b[0m             file_obj,\n\u001b[0;32m   1259\u001b[0m             start\u001b[39m=\u001b[39;49mstart,\n\u001b[0;32m   1260\u001b[0m             end\u001b[39m=\u001b[39;49mend,\n\u001b[0;32m   1261\u001b[0m             raw_download\u001b[39m=\u001b[39;49mraw_download,\n\u001b[0;32m   1262\u001b[0m             if_etag_match\u001b[39m=\u001b[39;49mif_etag_match,\n\u001b[0;32m   1263\u001b[0m             if_etag_not_match\u001b[39m=\u001b[39;49mif_etag_not_match,\n\u001b[0;32m   1264\u001b[0m             if_generation_match\u001b[39m=\u001b[39;49mif_generation_match,\n\u001b[0;32m   1265\u001b[0m             if_generation_not_match\u001b[39m=\u001b[39;49mif_generation_not_match,\n\u001b[0;32m   1266\u001b[0m             if_metageneration_match\u001b[39m=\u001b[39;49mif_metageneration_match,\n\u001b[0;32m   1267\u001b[0m             if_metageneration_not_match\u001b[39m=\u001b[39;49mif_metageneration_not_match,\n\u001b[0;32m   1268\u001b[0m             timeout\u001b[39m=\u001b[39;49mtimeout,\n\u001b[0;32m   1269\u001b[0m             checksum\u001b[39m=\u001b[39;49mchecksum,\n\u001b[0;32m   1270\u001b[0m             retry\u001b[39m=\u001b[39;49mretry,\n\u001b[0;32m   1271\u001b[0m         )\n\u001b[0;32m   1272\u001b[0m \u001b[39mexcept\u001b[39;00m resumable_media\u001b[39m.\u001b[39mDataCorruption:\n\u001b[0;32m   1273\u001b[0m     \u001b[39m# Delete the corrupt downloaded file.\u001b[39;00m\n\u001b[0;32m   1274\u001b[0m     os\u001b[39m.\u001b[39mremove(filename)\n",
      "File \u001b[1;32mc:\\Users\\sksoh\\AppData\\Local\\Programs\\Python\\Python310\\lib\\site-packages\\google\\cloud\\storage\\client.py:1099\u001b[0m, in \u001b[0;36mClient.download_blob_to_file\u001b[1;34m(self, blob_or_uri, file_obj, start, end, raw_download, if_etag_match, if_etag_not_match, if_generation_match, if_generation_not_match, if_metageneration_match, if_metageneration_not_match, timeout, checksum, retry)\u001b[0m\n\u001b[0;32m   1086\u001b[0m     blob_or_uri\u001b[39m.\u001b[39m_do_download(\n\u001b[0;32m   1087\u001b[0m         transport,\n\u001b[0;32m   1088\u001b[0m         file_obj,\n\u001b[1;32m   (...)\u001b[0m\n\u001b[0;32m   1096\u001b[0m         retry\u001b[39m=\u001b[39mretry,\n\u001b[0;32m   1097\u001b[0m     )\n\u001b[0;32m   1098\u001b[0m \u001b[39mexcept\u001b[39;00m resumable_media\u001b[39m.\u001b[39mInvalidResponse \u001b[39mas\u001b[39;00m exc:\n\u001b[1;32m-> 1099\u001b[0m     _raise_from_invalid_response(exc)\n",
      "File \u001b[1;32mc:\\Users\\sksoh\\AppData\\Local\\Programs\\Python\\Python310\\lib\\site-packages\\google\\cloud\\storage\\blob.py:4368\u001b[0m, in \u001b[0;36m_raise_from_invalid_response\u001b[1;34m(error)\u001b[0m\n\u001b[0;32m   4364\u001b[0m     error_message \u001b[39m=\u001b[39m \u001b[39mstr\u001b[39m(error)\n\u001b[0;32m   4366\u001b[0m message \u001b[39m=\u001b[39m \u001b[39mf\u001b[39m\u001b[39m\"\u001b[39m\u001b[39m{\u001b[39;00mresponse\u001b[39m.\u001b[39mrequest\u001b[39m.\u001b[39mmethod\u001b[39m}\u001b[39;00m\u001b[39m \u001b[39m\u001b[39m{\u001b[39;00mresponse\u001b[39m.\u001b[39mrequest\u001b[39m.\u001b[39murl\u001b[39m}\u001b[39;00m\u001b[39m: \u001b[39m\u001b[39m{\u001b[39;00merror_message\u001b[39m}\u001b[39;00m\u001b[39m\"\u001b[39m\n\u001b[1;32m-> 4368\u001b[0m \u001b[39mraise\u001b[39;00m exceptions\u001b[39m.\u001b[39mfrom_http_status(response\u001b[39m.\u001b[39mstatus_code, message, response\u001b[39m=\u001b[39mresponse)\n",
      "\u001b[1;31mForbidden\u001b[0m: 403 GET https://storage.googleapis.com/download/storage/v1/b/cloud_storage_leturn/o/test.json?alt=media: tts-api@heroic-habitat-376713.iam.gserviceaccount.com does not have storage.objects.get access to the Google Cloud Storage object. Permission &#39;storage.objects.get&#39; denied on resource (or it may not exist).: ('Request failed with status code', 403, 'Expected one of', <HTTPStatus.OK: 200>, <HTTPStatus.PARTIAL_CONTENT: 206>)"
     ]
    }
   ],
   "source": [
    "try:\n",
    "    import io\n",
    "    from io import BytesIO\n",
    "    import pandas as pd\n",
    "    from google.cloud import storage\n",
    "\n",
    "except Exception as e:\n",
    "    print(\"Some Modules are Missing {}\".format(e))\n",
    "\n",
    "storage_client = storage.Client.from_service_account_json(\"./tts_api_key.json\")\n",
    "\n",
    "# GCP에서 파일 다운로드\n",
    "\n",
    "bucket_name = 'cloud_storage_leturn'    # 서비스 계정 생성한 bucket 이름 입력\n",
    "source_blob_name = 'test.json'    # GCP에 저장되어 있는 파일 명\n",
    "destination_file_name = './download/test.json'    # 다운받을 파일을 저장할 경로(\"local/path/to/file\")\n",
    "\n",
    "storage_client = storage.Client()\n",
    "bucket = storage_client.bucket(bucket_name)\n",
    "blob = bucket.blob(source_blob_name)\n",
    "\n",
    "blob.download_to_filename(destination_file_name)"
   ]
  }
 ],
 "metadata": {
  "kernelspec": {
   "display_name": "Python 3",
   "language": "python",
   "name": "python3"
  },
  "language_info": {
   "codemirror_mode": {
    "name": "ipython",
    "version": 3
   },
   "file_extension": ".py",
   "mimetype": "text/x-python",
   "name": "python",
   "nbconvert_exporter": "python",
   "pygments_lexer": "ipython3",
   "version": "3.10.5"
  },
  "orig_nbformat": 4,
  "vscode": {
   "interpreter": {
    "hash": "35e0334895c7257ffa902a82750dbe09ec85e290cbc1321a3819ebf1c9410545"
   }
  }
 },
 "nbformat": 4,
 "nbformat_minor": 2
}
