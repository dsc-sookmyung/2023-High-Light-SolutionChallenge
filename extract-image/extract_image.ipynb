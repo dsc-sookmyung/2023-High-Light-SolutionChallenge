{
 "cells": [
  {
   "cell_type": "code",
   "execution_count": 29,
   "metadata": {},
   "outputs": [],
   "source": [
    "import fitz\n",
    "import PIL.Image\n",
    "from pdfminer.high_level import extract_pages\n",
    "from pdfminer.layout import LTTextContainer, LTChar, LTLine, LAParams\n",
    "import os\n",
    "import json\n",
    "import PIL.Image\n",
    "import io\n",
    "import re\n",
    "\n",
    "\n",
    "path = r'./data_2.pdf'\n",
    "extract_data = {}\n",
    "pdf = fitz.open(path)\n",
    "page_id = 1\n",
    "cur_size = 0\n",
    "text = \"\"\n",
    "\n",
    "# full-text -> image 순으로 페이지당으로 나옴\n",
    "for i in range(len(pdf)):\n",
    "    each_page = {}\n",
    "    page = pdf[i]  # load page\n",
    "    images = page.get_images()\n",
    "    text = page.get_text('sentences')\n",
    "\n",
    "    for image in images:\n",
    "        base_img = pdf.extract_image(image[0])\n",
    "        image_data = base_img['image']\n",
    "        img = PIL.Image.open(io.BytesIO(image_data))\n",
    "        extension = base_img['ext']\n",
    "        img.save(\n",
    "            open(f\"temp_dataset/data_2/image{page_id}.{extension}\", \"wb\"))\n",
    "    each_page[\"page_id\"] = page_id\n",
    "    full_text_data = {\"audio_url\": \"\", \"full_text\": text}\n",
    "    each_page[\"full_text\"] = full_text_data\n",
    "    extract_data[str(page_id)] = each_page\n",
    "    page_id += 1\n",
    "\n"
   ]
  }
 ],
 "metadata": {
  "kernelspec": {
   "display_name": "Python 3",
   "language": "python",
   "name": "python3"
  },
  "language_info": {
   "codemirror_mode": {
    "name": "ipython",
    "version": 3
   },
   "file_extension": ".py",
   "mimetype": "text/x-python",
   "name": "python",
   "nbconvert_exporter": "python",
   "pygments_lexer": "ipython3",
   "version": "3.10.5"
  },
  "orig_nbformat": 4
 },
 "nbformat": 4,
 "nbformat_minor": 2
}
